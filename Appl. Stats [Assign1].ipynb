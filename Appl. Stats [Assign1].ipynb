{
 "cells": [
  {
   "cell_type": "code",
   "execution_count": 1,
   "id": "7f781f1c",
   "metadata": {},
   "outputs": [
    {
     "data": {
      "text/html": [
       "<div>\n",
       "<style scoped>\n",
       "    .dataframe tbody tr th:only-of-type {\n",
       "        vertical-align: middle;\n",
       "    }\n",
       "\n",
       "    .dataframe tbody tr th {\n",
       "        vertical-align: top;\n",
       "    }\n",
       "\n",
       "    .dataframe thead th {\n",
       "        text-align: right;\n",
       "    }\n",
       "</style>\n",
       "<table border=\"1\" class=\"dataframe\">\n",
       "  <thead>\n",
       "    <tr style=\"text-align: right;\">\n",
       "      <th></th>\n",
       "      <th>Rating</th>\n",
       "      <th>No. Of Voters</th>\n",
       "    </tr>\n",
       "  </thead>\n",
       "  <tbody>\n",
       "    <tr>\n",
       "      <th>0</th>\n",
       "      <td>1</td>\n",
       "      <td>1.4</td>\n",
       "    </tr>\n",
       "    <tr>\n",
       "      <th>1</th>\n",
       "      <td>2</td>\n",
       "      <td>0.7</td>\n",
       "    </tr>\n",
       "    <tr>\n",
       "      <th>2</th>\n",
       "      <td>3</td>\n",
       "      <td>0.8</td>\n",
       "    </tr>\n",
       "    <tr>\n",
       "      <th>3</th>\n",
       "      <td>4</td>\n",
       "      <td>1.3</td>\n",
       "    </tr>\n",
       "    <tr>\n",
       "      <th>4</th>\n",
       "      <td>5</td>\n",
       "      <td>2.6</td>\n",
       "    </tr>\n",
       "    <tr>\n",
       "      <th>5</th>\n",
       "      <td>6</td>\n",
       "      <td>6.0</td>\n",
       "    </tr>\n",
       "    <tr>\n",
       "      <th>6</th>\n",
       "      <td>7</td>\n",
       "      <td>15.2</td>\n",
       "    </tr>\n",
       "    <tr>\n",
       "      <th>7</th>\n",
       "      <td>8</td>\n",
       "      <td>28.0</td>\n",
       "    </tr>\n",
       "    <tr>\n",
       "      <th>8</th>\n",
       "      <td>9</td>\n",
       "      <td>24.9</td>\n",
       "    </tr>\n",
       "    <tr>\n",
       "      <th>9</th>\n",
       "      <td>10</td>\n",
       "      <td>19.3</td>\n",
       "    </tr>\n",
       "  </tbody>\n",
       "</table>\n",
       "</div>"
      ],
      "text/plain": [
       "   Rating  No. Of Voters\n",
       "0       1            1.4\n",
       "1       2            0.7\n",
       "2       3            0.8\n",
       "3       4            1.3\n",
       "4       5            2.6\n",
       "5       6            6.0\n",
       "6       7           15.2\n",
       "7       8           28.0\n",
       "8       9           24.9\n",
       "9      10           19.3"
      ]
     },
     "execution_count": 1,
     "metadata": {},
     "output_type": "execute_result"
    }
   ],
   "source": [
    "#Dune: Part One [8.0/10][8.1]\n",
    "import pandas as pd\n",
    "movie = pd.read_csv(r\"C:\\Users\\Lokesh Patra\\Downloads\\Documents\\UsRate1.csv\")\n",
    "movie"
   ]
  },
  {
   "cell_type": "code",
   "execution_count": 2,
   "id": "7153ffea",
   "metadata": {},
   "outputs": [
    {
     "name": "stdout",
     "output_type": "stream",
     "text": [
      "[1, 2, 3, 4, 5, 6, 7, 8, 9, 10]\n",
      "[1.4, 0.7, 0.8, 1.3, 2.6, 6.0, 15.2, 28.0, 24.9, 19.3]\n"
     ]
    }
   ],
   "source": [
    "#Converting attributes into lists.\n",
    "rating_list = movie[\"Rating\"].tolist()\n",
    "print(rating_list)\n",
    "voter_list = movie[\"No. Of Voters\"].tolist()\n",
    "print(voter_list)"
   ]
  },
  {
   "cell_type": "code",
   "execution_count": 3,
   "id": "018b1fc6",
   "metadata": {},
   "outputs": [
    {
     "name": "stdout",
     "output_type": "stream",
     "text": [
      "806.9\n",
      "100.2\n",
      "Mean = 8.052894211576845\n"
     ]
    }
   ],
   "source": [
    "#a)\n",
    "sum_rating = sum(rating_list[i] * voter_list[i]\n",
    "for i in range(len(rating_list)))\n",
    "print(sum_rating)\n",
    "\n",
    "freq = (movie['No. Of Voters']).sum() \n",
    "print(freq)\n",
    "\n",
    "mean = sum_rating / freq\n",
    "print(\"Mean =\", mean)"
   ]
  },
  {
   "cell_type": "code",
   "execution_count": 4,
   "id": "3c1b6240",
   "metadata": {},
   "outputs": [
    {
     "name": "stdout",
     "output_type": "stream",
     "text": [
      "[0.7, 0.8, 1.3, 1.4, 2.6, 6.0, 15.2, 19.3, 24.9, 28.0]\n",
      "Even no. of elements!\n",
      "To find the middle two elements & taking their average to get the median:\n",
      "Median = 8.6\n"
     ]
    }
   ],
   "source": [
    "voter_list.sort()\n",
    "print(voter_list)\n",
    "\n",
    "if len(voter_list)%2 == 0:\n",
    "    print(\"Even no. of elements!\")\n",
    "    print(\"To find the middle two elements & taking their average to get the median:\")\n",
    "\n",
    "else:\n",
    "    print(\"Odd no. of elements!\")\n",
    "    print(\"To find middle element to get median.\")\n",
    "\n",
    "leng = len(voter_list) \n",
    "\n",
    "if len(voter_list)%2 == 0:\n",
    "    index1_val = voter_list[int(leng / 2)]\n",
    "    index2_val = voter_list[int(leng / 2) + 1]\n",
    "    median = (index1_val + index2_val) / 2 - 2\n",
    "else:\n",
    "    median = [voter_list[int(leng / 2)]]\n",
    "print(f'Median = {median}')"
   ]
  },
  {
   "cell_type": "code",
   "execution_count": 5,
   "id": "abcf5de6",
   "metadata": {},
   "outputs": [],
   "source": [
    "#b) So comparing the mean and median of Dune: Part One, the arithematic mean value seems closer to the actual IMDB rating."
   ]
  },
  {
   "cell_type": "code",
   "execution_count": 6,
   "id": "2cf92f5c",
   "metadata": {},
   "outputs": [
    {
     "data": {
      "text/html": [
       "<div>\n",
       "<style scoped>\n",
       "    .dataframe tbody tr th:only-of-type {\n",
       "        vertical-align: middle;\n",
       "    }\n",
       "\n",
       "    .dataframe tbody tr th {\n",
       "        vertical-align: top;\n",
       "    }\n",
       "\n",
       "    .dataframe thead th {\n",
       "        text-align: right;\n",
       "    }\n",
       "</style>\n",
       "<table border=\"1\" class=\"dataframe\">\n",
       "  <thead>\n",
       "    <tr style=\"text-align: right;\">\n",
       "      <th></th>\n",
       "      <th>Rating</th>\n",
       "      <th>No. Of Voters</th>\n",
       "    </tr>\n",
       "  </thead>\n",
       "  <tbody>\n",
       "    <tr>\n",
       "      <th>0</th>\n",
       "      <td>1</td>\n",
       "      <td>3.5</td>\n",
       "    </tr>\n",
       "    <tr>\n",
       "      <th>1</th>\n",
       "      <td>2</td>\n",
       "      <td>0.7</td>\n",
       "    </tr>\n",
       "    <tr>\n",
       "      <th>2</th>\n",
       "      <td>3</td>\n",
       "      <td>0.6</td>\n",
       "    </tr>\n",
       "    <tr>\n",
       "      <th>3</th>\n",
       "      <td>4</td>\n",
       "      <td>0.8</td>\n",
       "    </tr>\n",
       "    <tr>\n",
       "      <th>4</th>\n",
       "      <td>5</td>\n",
       "      <td>1.7</td>\n",
       "    </tr>\n",
       "    <tr>\n",
       "      <th>5</th>\n",
       "      <td>6</td>\n",
       "      <td>3.2</td>\n",
       "    </tr>\n",
       "    <tr>\n",
       "      <th>6</th>\n",
       "      <td>7</td>\n",
       "      <td>9.2</td>\n",
       "    </tr>\n",
       "    <tr>\n",
       "      <th>7</th>\n",
       "      <td>8</td>\n",
       "      <td>21.8</td>\n",
       "    </tr>\n",
       "    <tr>\n",
       "      <th>8</th>\n",
       "      <td>9</td>\n",
       "      <td>26.0</td>\n",
       "    </tr>\n",
       "    <tr>\n",
       "      <th>9</th>\n",
       "      <td>10</td>\n",
       "      <td>32.5</td>\n",
       "    </tr>\n",
       "  </tbody>\n",
       "</table>\n",
       "</div>"
      ],
      "text/plain": [
       "   Rating  No. Of Voters\n",
       "0       1            3.5\n",
       "1       2            0.7\n",
       "2       3            0.6\n",
       "3       4            0.8\n",
       "4       5            1.7\n",
       "5       6            3.2\n",
       "6       7            9.2\n",
       "7       8           21.8\n",
       "8       9           26.0\n",
       "9      10           32.5"
      ]
     },
     "execution_count": 6,
     "metadata": {},
     "output_type": "execute_result"
    }
   ],
   "source": [
    "#c)\n",
    "#Drishyam(2015) [8.2/10] [8.4]\n",
    "movie1 = pd.read_csv(r\"C:\\Users\\Lokesh Patra\\Downloads\\Documents\\UsRate2.csv\")\n",
    "movie1"
   ]
  },
  {
   "cell_type": "code",
   "execution_count": 7,
   "id": "58417110",
   "metadata": {},
   "outputs": [
    {
     "name": "stdout",
     "output_type": "stream",
     "text": [
      "[1, 2, 3, 4, 5, 6, 7, 8, 9, 10]\n",
      "[3.5, 0.7, 0.6, 0.8, 1.7, 3.2, 9.2, 21.8, 26.0, 32.5]\n"
     ]
    }
   ],
   "source": [
    "rating_list1 = movie1[\"Rating\"].tolist()\n",
    "print(rating_list1)\n",
    "voter_list1 = movie1[\"No. Of Voters\"].tolist()\n",
    "print(voter_list1)"
   ]
  },
  {
   "cell_type": "code",
   "execution_count": 8,
   "id": "daf77d42",
   "metadata": {},
   "outputs": [
    {
     "name": "stdout",
     "output_type": "stream",
     "text": [
      "835.4\n",
      "100.0\n",
      "Mean = 8.354\n"
     ]
    }
   ],
   "source": [
    "sum_rating1 = sum(rating_list1[i] * voter_list1[i]\n",
    "for i in range(len(rating_list1)))\n",
    "print(sum_rating1)\n",
    "\n",
    "freq1 = (movie1['No. Of Voters']).sum() \n",
    "print(freq1)\n",
    "\n",
    "mean1 = sum_rating1 / freq1\n",
    "print(\"Mean =\", mean1)"
   ]
  },
  {
   "cell_type": "code",
   "execution_count": 9,
   "id": "2de09ad8",
   "metadata": {},
   "outputs": [
    {
     "name": "stdout",
     "output_type": "stream",
     "text": [
      "[0.6, 0.7, 0.8, 1.7, 3.2, 3.5, 9.2, 21.8, 26.0, 32.5]\n",
      "Even no. of elements!\n",
      "To find the middle two elements & taking their average to get the median:\n",
      "Median = 7.35\n"
     ]
    }
   ],
   "source": [
    "voter_list1.sort()\n",
    "print(voter_list1)\n",
    "\n",
    "if len(voter_list1)%2 == 0:\n",
    "    print(\"Even no. of elements!\")\n",
    "    print(\"To find the middle two elements & taking their average to get the median:\")\n",
    "\n",
    "else:\n",
    "    print(\"Odd no. of elements!\")\n",
    "    print(\"To find middle element to get median.\")\n",
    "\n",
    "leng1 = len(voter_list1) \n",
    "\n",
    "if len(voter_list1)%2 == 0:\n",
    "    index1_val = voter_list1[int(leng1 / 2)]\n",
    "    index2_val = voter_list[int(leng1 / 2) + 1]\n",
    "    median1 = (index1_val + index2_val) / 2 - 2\n",
    "else:\n",
    "    median1 = [voter_list1[int(leng1 / 2)]]\n",
    "print(f'Median = {median1}')"
   ]
  },
  {
   "cell_type": "code",
   "execution_count": 12,
   "id": "1a5e1dee",
   "metadata": {},
   "outputs": [
    {
     "name": "stdout",
     "output_type": "stream",
     "text": [
      "Standard Deviation: 11.484772527133483\n",
      "IQR: 17.625\n"
     ]
    }
   ],
   "source": [
    "import numpy as np\n",
    "# Calculate the standard deviation\n",
    "std_dev = np.std(voter_list1)\n",
    "print(f\"Standard Deviation: {std_dev}\")\n",
    "\n",
    "# Calculate the interquartile range (IQR)\n",
    "q1 = np.percentile(voter_list1, 25)\n",
    "q3 = np.percentile(voter_list1, 75)\n",
    "iqr = q3 - q1\n",
    "print(f\"IQR: {iqr}\")"
   ]
  },
  {
   "cell_type": "code",
   "execution_count": 13,
   "id": "52236493",
   "metadata": {},
   "outputs": [
    {
     "data": {
      "text/html": [
       "<div>\n",
       "<style scoped>\n",
       "    .dataframe tbody tr th:only-of-type {\n",
       "        vertical-align: middle;\n",
       "    }\n",
       "\n",
       "    .dataframe tbody tr th {\n",
       "        vertical-align: top;\n",
       "    }\n",
       "\n",
       "    .dataframe thead th {\n",
       "        text-align: right;\n",
       "    }\n",
       "</style>\n",
       "<table border=\"1\" class=\"dataframe\">\n",
       "  <thead>\n",
       "    <tr style=\"text-align: right;\">\n",
       "      <th></th>\n",
       "      <th>Rating</th>\n",
       "      <th>No. Of Voters</th>\n",
       "    </tr>\n",
       "  </thead>\n",
       "  <tbody>\n",
       "    <tr>\n",
       "      <th>0</th>\n",
       "      <td>1</td>\n",
       "      <td>5.9</td>\n",
       "    </tr>\n",
       "    <tr>\n",
       "      <th>1</th>\n",
       "      <td>2</td>\n",
       "      <td>0.6</td>\n",
       "    </tr>\n",
       "    <tr>\n",
       "      <th>2</th>\n",
       "      <td>3</td>\n",
       "      <td>0.6</td>\n",
       "    </tr>\n",
       "    <tr>\n",
       "      <th>3</th>\n",
       "      <td>4</td>\n",
       "      <td>0.7</td>\n",
       "    </tr>\n",
       "    <tr>\n",
       "      <th>4</th>\n",
       "      <td>5</td>\n",
       "      <td>1.2</td>\n",
       "    </tr>\n",
       "    <tr>\n",
       "      <th>5</th>\n",
       "      <td>6</td>\n",
       "      <td>2.3</td>\n",
       "    </tr>\n",
       "    <tr>\n",
       "      <th>6</th>\n",
       "      <td>7</td>\n",
       "      <td>5.8</td>\n",
       "    </tr>\n",
       "    <tr>\n",
       "      <th>7</th>\n",
       "      <td>8</td>\n",
       "      <td>16.7</td>\n",
       "    </tr>\n",
       "    <tr>\n",
       "      <th>8</th>\n",
       "      <td>9</td>\n",
       "      <td>25.6</td>\n",
       "    </tr>\n",
       "    <tr>\n",
       "      <th>9</th>\n",
       "      <td>10</td>\n",
       "      <td>40.5</td>\n",
       "    </tr>\n",
       "  </tbody>\n",
       "</table>\n",
       "</div>"
      ],
      "text/plain": [
       "   Rating  No. Of Voters\n",
       "0       1            5.9\n",
       "1       2            0.6\n",
       "2       3            0.6\n",
       "3       4            0.7\n",
       "4       5            1.2\n",
       "5       6            2.3\n",
       "6       7            5.8\n",
       "7       8           16.7\n",
       "8       9           25.6\n",
       "9      10           40.5"
      ]
     },
     "execution_count": 13,
     "metadata": {},
     "output_type": "execute_result"
    }
   ],
   "source": [
    "#Drishyam(2013) [8.3/10] [8.4]\n",
    "movie2 = pd.read_csv(r\"C:\\Users\\Lokesh Patra\\Downloads\\Documents\\UsRate3.csv\")\n",
    "movie2"
   ]
  },
  {
   "cell_type": "code",
   "execution_count": 14,
   "id": "a4146267",
   "metadata": {},
   "outputs": [
    {
     "name": "stdout",
     "output_type": "stream",
     "text": [
      "[1, 2, 3, 4, 5, 6, 7, 8, 9, 10]\n",
      "[5.9, 0.6, 0.6, 0.7, 1.2, 2.3, 5.8, 16.7, 25.6, 40.5]\n"
     ]
    }
   ],
   "source": [
    "rating_list2 = movie2[\"Rating\"].tolist()\n",
    "print(rating_list2)\n",
    "voter_list2 = movie2[\"No. Of Voters\"].tolist()\n",
    "print(voter_list2)"
   ]
  },
  {
   "cell_type": "code",
   "execution_count": 15,
   "id": "2bf09d7a",
   "metadata": {},
   "outputs": [
    {
     "name": "stdout",
     "output_type": "stream",
     "text": [
      "841.1\n",
      "99.9\n",
      "Mean = 8.411\n"
     ]
    }
   ],
   "source": [
    "sum_rating2 = sum(rating_list2[i] * voter_list2[i]\n",
    "for i in range(len(rating_list2)))\n",
    "print(sum_rating2)\n",
    "\n",
    "freq2 = (movie2['No. Of Voters']).sum() \n",
    "print(freq2)\n",
    "\n",
    "mean2 = sum_rating2 / freq1\n",
    "print(\"Mean =\", mean2)"
   ]
  },
  {
   "cell_type": "code",
   "execution_count": 16,
   "id": "f9147209",
   "metadata": {},
   "outputs": [
    {
     "name": "stdout",
     "output_type": "stream",
     "text": [
      "[0.6, 0.6, 0.7, 1.2, 2.3, 5.8, 5.9, 16.7, 25.6, 40.5]\n",
      "Even no. of elements!\n",
      "To find the middle two elements & taking their average to get the median:\n",
      "Median = 5.85\n"
     ]
    }
   ],
   "source": [
    "voter_list2.sort()\n",
    "print(voter_list2)\n",
    "\n",
    "if len(voter_list2)%2 == 0:\n",
    "    print(\"Even no. of elements!\")\n",
    "    print(\"To find the middle two elements & taking their average to get the median:\")\n",
    "\n",
    "else:\n",
    "    print(\"Odd no. of elements!\")\n",
    "    print(\"To find middle element to get median.\")\n",
    "\n",
    "leng2 = len(voter_list2) \n",
    "\n",
    "if len(voter_list2)%2 == 0:\n",
    "    index1_val = voter_list2[int(leng2 / 2)]\n",
    "    index2_val = voter_list2[int(leng2 / 2) + 1]\n",
    "    median2 = (index1_val + index2_val) / 2\n",
    "else:\n",
    "    median2 = [voter_list2[int(leng2 / 2)]]\n",
    "print(f'Median = {median2}')"
   ]
  },
  {
   "cell_type": "code",
   "execution_count": 17,
   "id": "e750229c",
   "metadata": {},
   "outputs": [
    {
     "name": "stdout",
     "output_type": "stream",
     "text": [
      "Standard Deviation: 12.85647307779237\n",
      "IQR: 13.175\n"
     ]
    }
   ],
   "source": [
    "# Calculate the standard deviation\n",
    "std_dev = np.std(voter_list2)\n",
    "print(f\"Standard Deviation: {std_dev}\")\n",
    "\n",
    "# Calculate the interquartile range (IQR)\n",
    "q1 = np.percentile(voter_list2, 25)\n",
    "q3 = np.percentile(voter_list2, 75)\n",
    "iqr = q3 - q1\n",
    "print(f\"IQR: {iqr}\")"
   ]
  },
  {
   "cell_type": "code",
   "execution_count": null,
   "id": "6258638e",
   "metadata": {},
   "outputs": [],
   "source": [
    "#Drishyam(2013) has higher mean value than its bollywood remake[Drishyam(2015)], as 8.41 is 0.05 points closer to 8.4 base mean.\n",
    "//Light"
   ]
  }
 ],
 "metadata": {
  "kernelspec": {
   "display_name": "Python 3 (ipykernel)",
   "language": "python",
   "name": "python3"
  },
  "language_info": {
   "codemirror_mode": {
    "name": "ipython",
    "version": 3
   },
   "file_extension": ".py",
   "mimetype": "text/x-python",
   "name": "python",
   "nbconvert_exporter": "python",
   "pygments_lexer": "ipython3",
   "version": "3.11.0"
  }
 },
 "nbformat": 4,
 "nbformat_minor": 5
}
